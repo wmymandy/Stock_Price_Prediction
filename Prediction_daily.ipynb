{
 "cells": [
  {
   "cell_type": "code",
   "execution_count": 1,
   "metadata": {},
   "outputs": [],
   "source": [
    "import pandas as pd\n",
    "import numpy as np \n",
    "from sklearn.svm import SVR\n",
    "from sklearn.linear_model import LinearRegression\n",
    "from sklearn.neighbors import KNeighborsRegressor\n",
    "from sklearn.ensemble import RandomForestRegressor\n",
    "import matplotlib.pyplot as plt"
   ]
  },
  {
   "cell_type": "code",
   "execution_count": 2,
   "metadata": {},
   "outputs": [],
   "source": [
    "df = pd.read_csv(\"sp500_all_5y.csv\")\n",
    "df = df.loc[:, ~df.columns.str.contains('^Unnamed')]"
   ]
  },
  {
   "cell_type": "code",
   "execution_count": 3,
   "metadata": {},
   "outputs": [
    {
     "data": {
      "text/html": [
       "<div>\n",
       "<style scoped>\n",
       "    .dataframe tbody tr th:only-of-type {\n",
       "        vertical-align: middle;\n",
       "    }\n",
       "\n",
       "    .dataframe tbody tr th {\n",
       "        vertical-align: top;\n",
       "    }\n",
       "\n",
       "    .dataframe thead th {\n",
       "        text-align: right;\n",
       "    }\n",
       "</style>\n",
       "<table border=\"1\" class=\"dataframe\">\n",
       "  <thead>\n",
       "    <tr style=\"text-align: right;\">\n",
       "      <th></th>\n",
       "      <th>Ticker</th>\n",
       "      <th>Date</th>\n",
       "      <th>Open</th>\n",
       "      <th>High</th>\n",
       "      <th>Low</th>\n",
       "      <th>Close</th>\n",
       "      <th>Volume</th>\n",
       "    </tr>\n",
       "  </thead>\n",
       "  <tbody>\n",
       "    <tr>\n",
       "      <td>0</td>\n",
       "      <td>MMM</td>\n",
       "      <td>2015-11-16</td>\n",
       "      <td>134.812716</td>\n",
       "      <td>137.108538</td>\n",
       "      <td>134.812716</td>\n",
       "      <td>137.065231</td>\n",
       "      <td>2395000.0</td>\n",
       "    </tr>\n",
       "    <tr>\n",
       "      <td>1</td>\n",
       "      <td>MMM</td>\n",
       "      <td>2015-11-17</td>\n",
       "      <td>137.195155</td>\n",
       "      <td>137.342432</td>\n",
       "      <td>135.601074</td>\n",
       "      <td>136.042908</td>\n",
       "      <td>2393000.0</td>\n",
       "    </tr>\n",
       "    <tr>\n",
       "      <td>2</td>\n",
       "      <td>MMM</td>\n",
       "      <td>2015-11-18</td>\n",
       "      <td>136.195540</td>\n",
       "      <td>137.346642</td>\n",
       "      <td>136.108344</td>\n",
       "      <td>137.250717</td>\n",
       "      <td>2226900.0</td>\n",
       "    </tr>\n",
       "    <tr>\n",
       "      <td>3</td>\n",
       "      <td>MMM</td>\n",
       "      <td>2015-11-19</td>\n",
       "      <td>137.459997</td>\n",
       "      <td>138.227385</td>\n",
       "      <td>136.657720</td>\n",
       "      <td>138.114029</td>\n",
       "      <td>1518200.0</td>\n",
       "    </tr>\n",
       "    <tr>\n",
       "      <td>4</td>\n",
       "      <td>MMM</td>\n",
       "      <td>2015-11-20</td>\n",
       "      <td>138.375644</td>\n",
       "      <td>139.387216</td>\n",
       "      <td>138.079153</td>\n",
       "      <td>138.611099</td>\n",
       "      <td>1891100.0</td>\n",
       "    </tr>\n",
       "    <tr>\n",
       "      <td>...</td>\n",
       "      <td>...</td>\n",
       "      <td>...</td>\n",
       "      <td>...</td>\n",
       "      <td>...</td>\n",
       "      <td>...</td>\n",
       "      <td>...</td>\n",
       "      <td>...</td>\n",
       "    </tr>\n",
       "    <tr>\n",
       "      <td>623239</td>\n",
       "      <td>ZTS</td>\n",
       "      <td>2020-11-09</td>\n",
       "      <td>175.460007</td>\n",
       "      <td>176.410004</td>\n",
       "      <td>165.009995</td>\n",
       "      <td>165.199997</td>\n",
       "      <td>2325300.0</td>\n",
       "    </tr>\n",
       "    <tr>\n",
       "      <td>623240</td>\n",
       "      <td>ZTS</td>\n",
       "      <td>2020-11-10</td>\n",
       "      <td>166.039993</td>\n",
       "      <td>166.960007</td>\n",
       "      <td>160.490005</td>\n",
       "      <td>162.559998</td>\n",
       "      <td>2926600.0</td>\n",
       "    </tr>\n",
       "    <tr>\n",
       "      <td>623241</td>\n",
       "      <td>ZTS</td>\n",
       "      <td>2020-11-11</td>\n",
       "      <td>164.990005</td>\n",
       "      <td>165.919998</td>\n",
       "      <td>163.330002</td>\n",
       "      <td>164.949997</td>\n",
       "      <td>1570200.0</td>\n",
       "    </tr>\n",
       "    <tr>\n",
       "      <td>623242</td>\n",
       "      <td>ZTS</td>\n",
       "      <td>2020-11-12</td>\n",
       "      <td>164.160004</td>\n",
       "      <td>166.600006</td>\n",
       "      <td>163.789993</td>\n",
       "      <td>165.190002</td>\n",
       "      <td>1182800.0</td>\n",
       "    </tr>\n",
       "    <tr>\n",
       "      <td>623243</td>\n",
       "      <td>ZTS</td>\n",
       "      <td>2020-11-13</td>\n",
       "      <td>165.460007</td>\n",
       "      <td>167.029999</td>\n",
       "      <td>164.509995</td>\n",
       "      <td>165.779999</td>\n",
       "      <td>1666600.0</td>\n",
       "    </tr>\n",
       "  </tbody>\n",
       "</table>\n",
       "<p>623244 rows × 7 columns</p>\n",
       "</div>"
      ],
      "text/plain": [
       "       Ticker        Date        Open        High         Low       Close  \\\n",
       "0         MMM  2015-11-16  134.812716  137.108538  134.812716  137.065231   \n",
       "1         MMM  2015-11-17  137.195155  137.342432  135.601074  136.042908   \n",
       "2         MMM  2015-11-18  136.195540  137.346642  136.108344  137.250717   \n",
       "3         MMM  2015-11-19  137.459997  138.227385  136.657720  138.114029   \n",
       "4         MMM  2015-11-20  138.375644  139.387216  138.079153  138.611099   \n",
       "...       ...         ...         ...         ...         ...         ...   \n",
       "623239    ZTS  2020-11-09  175.460007  176.410004  165.009995  165.199997   \n",
       "623240    ZTS  2020-11-10  166.039993  166.960007  160.490005  162.559998   \n",
       "623241    ZTS  2020-11-11  164.990005  165.919998  163.330002  164.949997   \n",
       "623242    ZTS  2020-11-12  164.160004  166.600006  163.789993  165.190002   \n",
       "623243    ZTS  2020-11-13  165.460007  167.029999  164.509995  165.779999   \n",
       "\n",
       "           Volume  \n",
       "0       2395000.0  \n",
       "1       2393000.0  \n",
       "2       2226900.0  \n",
       "3       1518200.0  \n",
       "4       1891100.0  \n",
       "...           ...  \n",
       "623239  2325300.0  \n",
       "623240  2926600.0  \n",
       "623241  1570200.0  \n",
       "623242  1182800.0  \n",
       "623243  1666600.0  \n",
       "\n",
       "[623244 rows x 7 columns]"
      ]
     },
     "execution_count": 3,
     "metadata": {},
     "output_type": "execute_result"
    }
   ],
   "source": [
    "df"
   ]
  },
  {
   "cell_type": "code",
   "execution_count": 4,
   "metadata": {},
   "outputs": [
    {
     "data": {
      "text/plain": [
       "<matplotlib.axes._subplots.AxesSubplot at 0x1246aaa20>"
      ]
     },
     "execution_count": 4,
     "metadata": {},
     "output_type": "execute_result"
    },
    {
     "data": {
      "image/png": "[encoded data removed]",
      "text/plain": [
       "<Figure size 432x288 with 2 Axes>"
      ]
     },
     "metadata": {
      "needs_background": "light"
     },
     "output_type": "display_data"
    }
   ],
   "source": [
    "# Correlation\n",
    "corr = df.corr(method='pearson')\n",
    "\n",
    "import seaborn as sb\n",
    "sb.heatmap(corr,xticklabels=corr.columns, yticklabels=corr.columns,\n",
    " cmap='RdBu_r', annot=True, linewidth=0.5)"
   ]
  },
  {
   "cell_type": "code",
   "execution_count": 5,
   "metadata": {},
   "outputs": [],
   "source": [
    "def stock_hist(df,ticker):\n",
    "    stock = df[df['Ticker']== ticker]\n",
    "    stock = stock.reset_index()\n",
    "    stock = stock.drop(columns = \"index\")\n",
    "    return stock"
   ]
  },
  {
   "cell_type": "code",
   "execution_count": 6,
   "metadata": {},
   "outputs": [
    {
     "data": {
      "text/html": [
       "<div>\n",
       "<style scoped>\n",
       "    .dataframe tbody tr th:only-of-type {\n",
       "        vertical-align: middle;\n",
       "    }\n",
       "\n",
       "    .dataframe tbody tr th {\n",
       "        vertical-align: top;\n",
       "    }\n",
       "\n",
       "    .dataframe thead th {\n",
       "        text-align: right;\n",
       "    }\n",
       "</style>\n",
       "<table border=\"1\" class=\"dataframe\">\n",
       "  <thead>\n",
       "    <tr style=\"text-align: right;\">\n",
       "      <th></th>\n",
       "      <th>Ticker</th>\n",
       "      <th>Date</th>\n",
       "      <th>Open</th>\n",
       "      <th>High</th>\n",
       "      <th>Low</th>\n",
       "      <th>Close</th>\n",
       "      <th>Volume</th>\n",
       "    </tr>\n",
       "  </thead>\n",
       "  <tbody>\n",
       "    <tr>\n",
       "      <td>0</td>\n",
       "      <td>AAPL</td>\n",
       "      <td>2015-11-16</td>\n",
       "      <td>25.588095</td>\n",
       "      <td>26.245143</td>\n",
       "      <td>25.500796</td>\n",
       "      <td>26.231359</td>\n",
       "      <td>152426800.0</td>\n",
       "    </tr>\n",
       "    <tr>\n",
       "      <td>1</td>\n",
       "      <td>AAPL</td>\n",
       "      <td>2015-11-17</td>\n",
       "      <td>26.401363</td>\n",
       "      <td>26.431230</td>\n",
       "      <td>26.033784</td>\n",
       "      <td>26.118788</td>\n",
       "      <td>110467600.0</td>\n",
       "    </tr>\n",
       "    <tr>\n",
       "      <td>2</td>\n",
       "      <td>AAPL</td>\n",
       "      <td>2015-11-18</td>\n",
       "      <td>26.594344</td>\n",
       "      <td>26.991788</td>\n",
       "      <td>26.534612</td>\n",
       "      <td>26.945841</td>\n",
       "      <td>186698800.0</td>\n",
       "    </tr>\n",
       "    <tr>\n",
       "      <td>3</td>\n",
       "      <td>AAPL</td>\n",
       "      <td>2015-11-19</td>\n",
       "      <td>27.026249</td>\n",
       "      <td>27.510994</td>\n",
       "      <td>26.824081</td>\n",
       "      <td>27.288149</td>\n",
       "      <td>173183200.0</td>\n",
       "    </tr>\n",
       "    <tr>\n",
       "      <td>4</td>\n",
       "      <td>AAPL</td>\n",
       "      <td>2015-11-20</td>\n",
       "      <td>27.384641</td>\n",
       "      <td>27.550051</td>\n",
       "      <td>27.304233</td>\n",
       "      <td>27.407616</td>\n",
       "      <td>137148400.0</td>\n",
       "    </tr>\n",
       "    <tr>\n",
       "      <td>...</td>\n",
       "      <td>...</td>\n",
       "      <td>...</td>\n",
       "      <td>...</td>\n",
       "      <td>...</td>\n",
       "      <td>...</td>\n",
       "      <td>...</td>\n",
       "      <td>...</td>\n",
       "    </tr>\n",
       "    <tr>\n",
       "      <td>1254</td>\n",
       "      <td>AAPL</td>\n",
       "      <td>2020-11-09</td>\n",
       "      <td>120.500000</td>\n",
       "      <td>121.989998</td>\n",
       "      <td>116.050003</td>\n",
       "      <td>116.320000</td>\n",
       "      <td>154515300.0</td>\n",
       "    </tr>\n",
       "    <tr>\n",
       "      <td>1255</td>\n",
       "      <td>AAPL</td>\n",
       "      <td>2020-11-10</td>\n",
       "      <td>115.550003</td>\n",
       "      <td>117.589996</td>\n",
       "      <td>114.129997</td>\n",
       "      <td>115.970001</td>\n",
       "      <td>138023400.0</td>\n",
       "    </tr>\n",
       "    <tr>\n",
       "      <td>1256</td>\n",
       "      <td>AAPL</td>\n",
       "      <td>2020-11-11</td>\n",
       "      <td>117.190002</td>\n",
       "      <td>119.629997</td>\n",
       "      <td>116.440002</td>\n",
       "      <td>119.489998</td>\n",
       "      <td>112295000.0</td>\n",
       "    </tr>\n",
       "    <tr>\n",
       "      <td>1257</td>\n",
       "      <td>AAPL</td>\n",
       "      <td>2020-11-12</td>\n",
       "      <td>119.620003</td>\n",
       "      <td>120.529999</td>\n",
       "      <td>118.570000</td>\n",
       "      <td>119.209999</td>\n",
       "      <td>103162300.0</td>\n",
       "    </tr>\n",
       "    <tr>\n",
       "      <td>1258</td>\n",
       "      <td>AAPL</td>\n",
       "      <td>2020-11-13</td>\n",
       "      <td>119.440002</td>\n",
       "      <td>119.669998</td>\n",
       "      <td>117.870003</td>\n",
       "      <td>119.260002</td>\n",
       "      <td>81581900.0</td>\n",
       "    </tr>\n",
       "  </tbody>\n",
       "</table>\n",
       "<p>1259 rows × 7 columns</p>\n",
       "</div>"
      ],
      "text/plain": [
       "     Ticker        Date        Open        High         Low       Close  \\\n",
       "0      AAPL  2015-11-16   25.588095   26.245143   25.500796   26.231359   \n",
       "1      AAPL  2015-11-17   26.401363   26.431230   26.033784   26.118788   \n",
       "2      AAPL  2015-11-18   26.594344   26.991788   26.534612   26.945841   \n",
       "3      AAPL  2015-11-19   27.026249   27.510994   26.824081   27.288149   \n",
       "4      AAPL  2015-11-20   27.384641   27.550051   27.304233   27.407616   \n",
       "...     ...         ...         ...         ...         ...         ...   \n",
       "1254   AAPL  2020-11-09  120.500000  121.989998  116.050003  116.320000   \n",
       "1255   AAPL  2020-11-10  115.550003  117.589996  114.129997  115.970001   \n",
       "1256   AAPL  2020-11-11  117.190002  119.629997  116.440002  119.489998   \n",
       "1257   AAPL  2020-11-12  119.620003  120.529999  118.570000  119.209999   \n",
       "1258   AAPL  2020-11-13  119.440002  119.669998  117.870003  119.260002   \n",
       "\n",
       "           Volume  \n",
       "0     152426800.0  \n",
       "1     110467600.0  \n",
       "2     186698800.0  \n",
       "3     173183200.0  \n",
       "4     137148400.0  \n",
       "...           ...  \n",
       "1254  154515300.0  \n",
       "1255  138023400.0  \n",
       "1256  112295000.0  \n",
       "1257  103162300.0  \n",
       "1258   81581900.0  \n",
       "\n",
       "[1259 rows x 7 columns]"
      ]
     },
     "execution_count": 6,
     "metadata": {},
     "output_type": "execute_result"
    }
   ],
   "source": [
    "apple = stock_hist(df,\"AAPL\")\n",
    "apple"
   ]
  },
  {
   "cell_type": "code",
   "execution_count": 7,
   "metadata": {},
   "outputs": [
    {
     "data": {
      "image/png": "[encoded data removed]",
      "text/plain": [
       "<Figure size 1152x576 with 1 Axes>"
      ]
     },
     "metadata": {
      "needs_background": "light"
     },
     "output_type": "display_data"
    }
   ],
   "source": [
    "plt.figure(figsize=(16,8))\n",
    "plt.title('5 years history of Apple Stocks')\n",
    "plt.plot(apple['Date'],apple['Close'])\n",
    "plt.xlabel('Date',fontsize=18)\n",
    "plt.ylabel('Close Price US($)',fontsize=18)\n",
    "plt.show()"
   ]
  },
  {
   "cell_type": "code",
   "execution_count": 8,
   "metadata": {},
   "outputs": [],
   "source": [
    "from sklearn.model_selection import train_test_split\n",
    "def split_data(stock):\n",
    "    X = np.array(stock[['Open','High','Low']])\n",
    "    y = np.array(stock['Close'])\n",
    "    x_train, x_test, y_train, y_test = train_test_split(X, y, test_size=0.2)\n",
    "    return x_train, x_test, y_train, y_test"
   ]
  },
  {
   "cell_type": "code",
   "execution_count": 9,
   "metadata": {},
   "outputs": [],
   "source": [
    "x_train, x_test, y_train, y_test = split_data(apple)"
   ]
  },
  {
   "cell_type": "markdown",
   "metadata": {},
   "source": [
    "#### Linear Regression"
   ]
  },
  {
   "cell_type": "code",
   "execution_count": 10,
   "metadata": {},
   "outputs": [
    {
     "data": {
      "text/plain": [
       "LinearRegression(copy_X=True, fit_intercept=True, n_jobs=None, normalize=False)"
      ]
     },
     "execution_count": 10,
     "metadata": {},
     "output_type": "execute_result"
    }
   ],
   "source": [
    "lr_model=LinearRegression()\n",
    "lr_model.fit(x_train,y_train)"
   ]
  },
  {
   "cell_type": "code",
   "execution_count": 11,
   "metadata": {},
   "outputs": [],
   "source": [
    "y_lr_pred = lr_model.predict(x_test)"
   ]
  },
  {
   "cell_type": "markdown",
   "metadata": {},
   "source": [
    "##### Linear Model Cross-Validation"
   ]
  },
  {
   "cell_type": "code",
   "execution_count": 12,
   "metadata": {},
   "outputs": [
    {
     "name": "stdout",
     "output_type": "stream",
     "text": [
      "Accuracy:  99.89722987041505\n"
     ]
    }
   ],
   "source": [
    "from sklearn import model_selection\n",
    "from sklearn.model_selection import KFold\n",
    "kfold = model_selection.KFold(n_splits=20, random_state=100)\n",
    "results_kfold = model_selection.cross_val_score(lr_model, x_test, y_test.astype('int'), cv=kfold)\n",
    "print(\"Accuracy: \", results_kfold.mean()*100)"
   ]
  },
  {
   "cell_type": "code",
   "execution_count": 13,
   "metadata": {},
   "outputs": [],
   "source": [
    "# #### Plot Actual vs Predicted Value\n",
    "# plot_df=pd.DataFrame({'Actual':y_test,'Pred':y_pred})\n",
    "# plot_df.head(20).plot(kind='bar',figsize=(16,8))\n",
    "# plt.grid(which='major', linestyle='-', linewidth='0.5', color='green')\n",
    "# plt.grid(which='minor', linestyle=':', linewidth='0.5', color='black')\n",
    "# plt.show()"
   ]
  },
  {
   "cell_type": "markdown",
   "metadata": {},
   "source": [
    "#### KNN model"
   ]
  },
  {
   "cell_type": "code",
   "execution_count": 14,
   "metadata": {},
   "outputs": [],
   "source": [
    "knn_regressor=KNeighborsRegressor(n_neighbors = 5)\n",
    "knn_model=knn_regressor.fit(x_train,y_train)\n",
    "y_knn_pred=knn_model.predict(x_test)"
   ]
  },
  {
   "cell_type": "markdown",
   "metadata": {},
   "source": [
    "##### knn cross-validation"
   ]
  },
  {
   "cell_type": "code",
   "execution_count": 15,
   "metadata": {},
   "outputs": [
    {
     "name": "stdout",
     "output_type": "stream",
     "text": [
      "Accuracy:  99.78462150539589\n"
     ]
    }
   ],
   "source": [
    "knn_kfold = model_selection.KFold(n_splits=20, random_state=100)\n",
    "results_kfold = model_selection.cross_val_score(knn_model, x_test, y_test.astype('int'), cv=knn_kfold)\n",
    "print(\"Accuracy: \", results_kfold.mean()*100)"
   ]
  },
  {
   "cell_type": "code",
   "execution_count": null,
   "metadata": {},
   "outputs": [],
   "source": [
    "# #### Plot Actual vs Predicted\n",
    "# plot_knn_df=pd.DataFrame({'Actual':y_test,'Pred':y_knn_pred})\n",
    "# plot_knn_df.head(20).plot(kind='bar',figsize=(16,8))\n",
    "# plt.grid(which='major', linestyle='-', linewidth=0.5, color='green')\n",
    "# plt.grid(which='minor', linestyle=':', linewidth=0.5, color='black')\n",
    "# plt.show()"
   ]
  },
  {
   "cell_type": "markdown",
   "metadata": {},
   "source": [
    "#### SVM"
   ]
  },
  {
   "cell_type": "code",
   "execution_count": 16,
   "metadata": {},
   "outputs": [],
   "source": [
    "svm_regressor = SVR(kernel='linear')\n",
    "svm_model=svm_regressor.fit(x_train,y_train)\n",
    "y_svm_pred=svm_model.predict(x_test)"
   ]
  },
  {
   "cell_type": "markdown",
   "metadata": {},
   "source": [
    "#### Random Forest Regression"
   ]
  },
  {
   "cell_type": "code",
   "execution_count": 17,
   "metadata": {},
   "outputs": [
    {
     "name": "stderr",
     "output_type": "stream",
     "text": [
      "/Library/Frameworks/Python.framework/Versions/3.7/lib/python3.7/site-packages/sklearn/ensemble/forest.py:245: FutureWarning: The default value of n_estimators will change from 10 in version 0.20 to 100 in 0.22.\n",
      "  \"10 in version 0.20 to 100 in 0.22.\", FutureWarning)\n"
     ]
    }
   ],
   "source": [
    "rf = RandomForestRegressor()\n",
    "rf_model = rf.fit(x_train, y_train)\n",
    "y_rf_pred=rf_model.predict(x_test)"
   ]
  },
  {
   "cell_type": "code",
   "execution_count": null,
   "metadata": {},
   "outputs": [],
   "source": []
  },
  {
   "cell_type": "code",
   "execution_count": 42,
   "metadata": {},
   "outputs": [
    {
     "data": {
      "text/html": [
       "<div>\n",
       "<style scoped>\n",
       "    .dataframe tbody tr th:only-of-type {\n",
       "        vertical-align: middle;\n",
       "    }\n",
       "\n",
       "    .dataframe tbody tr th {\n",
       "        vertical-align: top;\n",
       "    }\n",
       "\n",
       "    .dataframe thead th {\n",
       "        text-align: right;\n",
       "    }\n",
       "</style>\n",
       "<table border=\"1\" class=\"dataframe\">\n",
       "  <thead>\n",
       "    <tr style=\"text-align: right;\">\n",
       "      <th></th>\n",
       "      <th>index</th>\n",
       "      <th>Open</th>\n",
       "      <th>High</th>\n",
       "      <th>Low</th>\n",
       "      <th>Close</th>\n",
       "      <th>y_svm_pred</th>\n",
       "      <th>y_lr_pred</th>\n",
       "      <th>y_knn_pred</th>\n",
       "      <th>y_rf_pred</th>\n",
       "    </tr>\n",
       "  </thead>\n",
       "  <tbody>\n",
       "  </tbody>\n",
       "</table>\n",
       "</div>"
      ],
      "text/plain": [
       "Empty DataFrame\n",
       "Columns: [index, Open, High, Low, Close, y_svm_pred, y_lr_pred, y_knn_pred, y_rf_pred]\n",
       "Index: []"
      ]
     },
     "execution_count": 42,
     "metadata": {},
     "output_type": "execute_result"
    }
   ],
   "source": [
    "op = []\n",
    "high = []\n",
    "low = []\n",
    "close = []\n",
    "\n",
    "for i in range(len(x_test)):\n",
    "    op.append(x_test[i][0])\n",
    "    high.append(x_test[i][1])\n",
    "    low.append(x_test[i][2])"
   ]
  },
  {
   "cell_type": "code",
   "execution_count": 48,
   "metadata": {},
   "outputs": [],
   "source": [
    "prediction_table = pd.DataFrame(columns = ['Open','High','Low','Close','y_svm_pred','y_lr_pred','y_knn_pred','y_rf_pred'])\n",
    "prediction_table['Open'] = op\n",
    "prediction_table['High'] = high\n",
    "prediction_table['Low'] = low\n",
    "prediction_table['Close'] = y_test\n",
    "prediction_table['y_svm_pred'] = y_svm_pred\n",
    "prediction_table['y_lr_pred'] = y_lr_pred\n",
    "prediction_table['y_knn_pred'] = y_knn_pred\n",
    "prediction_table['y_rf_pred'] = y_rf_pred"
   ]
  },
  {
   "cell_type": "code",
   "execution_count": 50,
   "metadata": {},
   "outputs": [
    {
     "data": {
      "text/html": [
       "<div>\n",
       "<style scoped>\n",
       "    .dataframe tbody tr th:only-of-type {\n",
       "        vertical-align: middle;\n",
       "    }\n",
       "\n",
       "    .dataframe tbody tr th {\n",
       "        vertical-align: top;\n",
       "    }\n",
       "\n",
       "    .dataframe thead th {\n",
       "        text-align: right;\n",
       "    }\n",
       "</style>\n",
       "<table border=\"1\" class=\"dataframe\">\n",
       "  <thead>\n",
       "    <tr style=\"text-align: right;\">\n",
       "      <th></th>\n",
       "      <th>Open</th>\n",
       "      <th>High</th>\n",
       "      <th>Low</th>\n",
       "      <th>Close</th>\n",
       "      <th>y_svm_pred</th>\n",
       "      <th>y_lr_pred</th>\n",
       "      <th>y_knn_pred</th>\n",
       "      <th>y_rf_pred</th>\n",
       "    </tr>\n",
       "  </thead>\n",
       "  <tbody>\n",
       "    <tr>\n",
       "      <td>0</td>\n",
       "      <td>61.789882</td>\n",
       "      <td>62.967818</td>\n",
       "      <td>61.459663</td>\n",
       "      <td>62.792850</td>\n",
       "      <td>62.532985</td>\n",
       "      <td>62.490342</td>\n",
       "      <td>62.703966</td>\n",
       "      <td>62.799457</td>\n",
       "    </tr>\n",
       "    <tr>\n",
       "      <td>1</td>\n",
       "      <td>41.771295</td>\n",
       "      <td>41.778453</td>\n",
       "      <td>41.363245</td>\n",
       "      <td>41.542213</td>\n",
       "      <td>41.466910</td>\n",
       "      <td>41.483778</td>\n",
       "      <td>41.548848</td>\n",
       "      <td>41.655335</td>\n",
       "    </tr>\n",
       "    <tr>\n",
       "      <td>2</td>\n",
       "      <td>74.823270</td>\n",
       "      <td>76.704125</td>\n",
       "      <td>74.788390</td>\n",
       "      <td>76.656792</td>\n",
       "      <td>76.416252</td>\n",
       "      <td>76.336720</td>\n",
       "      <td>76.466238</td>\n",
       "      <td>76.157471</td>\n",
       "    </tr>\n",
       "    <tr>\n",
       "      <td>3</td>\n",
       "      <td>53.049677</td>\n",
       "      <td>53.911353</td>\n",
       "      <td>52.844519</td>\n",
       "      <td>53.257252</td>\n",
       "      <td>53.631347</td>\n",
       "      <td>53.599819</td>\n",
       "      <td>53.560405</td>\n",
       "      <td>53.182911</td>\n",
       "    </tr>\n",
       "    <tr>\n",
       "      <td>4</td>\n",
       "      <td>47.778421</td>\n",
       "      <td>48.705188</td>\n",
       "      <td>47.758961</td>\n",
       "      <td>48.673569</td>\n",
       "      <td>48.564439</td>\n",
       "      <td>48.520998</td>\n",
       "      <td>48.401537</td>\n",
       "      <td>48.524260</td>\n",
       "    </tr>\n",
       "  </tbody>\n",
       "</table>\n",
       "</div>"
      ],
      "text/plain": [
       "        Open       High        Low      Close  y_svm_pred  y_lr_pred  \\\n",
       "0  61.789882  62.967818  61.459663  62.792850   62.532985  62.490342   \n",
       "1  41.771295  41.778453  41.363245  41.542213   41.466910  41.483778   \n",
       "2  74.823270  76.704125  74.788390  76.656792   76.416252  76.336720   \n",
       "3  53.049677  53.911353  52.844519  53.257252   53.631347  53.599819   \n",
       "4  47.778421  48.705188  47.758961  48.673569   48.564439  48.520998   \n",
       "\n",
       "   y_knn_pred  y_rf_pred  \n",
       "0   62.703966  62.799457  \n",
       "1   41.548848  41.655335  \n",
       "2   76.466238  76.157471  \n",
       "3   53.560405  53.182911  \n",
       "4   48.401537  48.524260  "
      ]
     },
     "execution_count": 50,
     "metadata": {},
     "output_type": "execute_result"
    }
   ],
   "source": [
    "prediction_table.head()"
   ]
  },
  {
   "cell_type": "markdown",
   "metadata": {},
   "source": [
    "#### Error Measure: RMSE, R2, Confidence"
   ]
  },
  {
   "cell_type": "code",
   "execution_count": 18,
   "metadata": {},
   "outputs": [],
   "source": [
    "from sklearn.metrics import mean_squared_error , r2_score\n",
    "import math"
   ]
  },
  {
   "cell_type": "code",
   "execution_count": 20,
   "metadata": {},
   "outputs": [
    {
     "name": "stdout",
     "output_type": "stream",
     "text": [
      "Linear Model Root mean square error: 0.6019393659720987\n",
      "KNN Model Root mean square error: 0.7153927797711993\n",
      "SVM Model Root mean square error: 0.6034684781299735\n",
      "Random Forest Model Root mean square error: 0.7209549599315264\n"
     ]
    }
   ],
   "source": [
    "lr_mse = math.sqrt(mean_squared_error(y_test,y_lr_pred))\n",
    "knn_mse = math.sqrt(mean_squared_error(y_test,y_knn_pred))\n",
    "svm_mse = math.sqrt(mean_squared_error(y_test,y_svm_pred))\n",
    "rf_mse = math.sqrt(mean_squared_error(y_test,y_rf_pred))\n",
    "print('Linear Model Root mean square error:',lr_mse)\n",
    "print('KNN Model Root mean square error:',knn_mse)\n",
    "print('SVM Model Root mean square error:',svm_mse)\n",
    "print('Random Forest Model Root mean square error:',rf_mse)"
   ]
  },
  {
   "cell_type": "code",
   "execution_count": 21,
   "metadata": {},
   "outputs": [
    {
     "name": "stdout",
     "output_type": "stream",
     "text": [
      "Linear R2: 0.9993177994507717\n",
      "KNN R2: 0.9990364024723973\n",
      "SVM R2: 0.9993143290476416\n",
      "Random Forest R2: 0.9990213602772475\n"
     ]
    }
   ],
   "source": [
    "print('Linear R2:',r2_score(y_test, y_lr_pred))\n",
    "print('KNN R2:',r2_score(y_test, y_knn_pred))\n",
    "print('SVM R2:',r2_score(y_test, y_svm_pred))\n",
    "print('Random Forest R2:',r2_score(y_test, y_rf_pred))"
   ]
  },
  {
   "cell_type": "code",
   "execution_count": 22,
   "metadata": {
    "scrolled": true
   },
   "outputs": [
    {
     "name": "stdout",
     "output_type": "stream",
     "text": [
      "linear regression confidence:  0.9993177994507716\n",
      "knn confidence:  0.9990364024723974\n",
      "svm confidence:  0.9993143290476416\n",
      "random forest confidence:  0.9990213602772476\n"
     ]
    }
   ],
   "source": [
    "lr_confidence = lr_model.score(x_test, y_test)\n",
    "knn_confidence = knn_model.score(x_test, y_test)\n",
    "svm_confidence = svm_model.score(x_test, y_test)\n",
    "rf_confidence = rf_model.score(x_test, y_test)\n",
    "print(\"linear regression confidence: \", lr_confidence)\n",
    "print(\"knn confidence: \", knn_confidence)\n",
    "print(\"svm confidence: \", svm_confidence)\n",
    "print(\"random forest confidence: \", rf_confidence)"
   ]
  },
  {
   "cell_type": "markdown",
   "metadata": {},
   "source": [
    "#### reference\n",
    "1. https://towardsai.net/p/machine-learning/netflix-stock-prediction-model-a-comparative-study-of-linear-regression-k-nearest-neighbor-knn-4527ff17939b\n",
    "2. https://towardsdatascience.com/an-introduction-to-random-forest-using-tesla-stock-prices-d9c6e113be3c\n",
    "3. https://randerson112358.medium.com/predict-stock-prices-using-python-machine-learning-53aa024da20a"
   ]
  }
 ],
 "metadata": {
  "kernelspec": {
   "display_name": "Python 3",
   "language": "python",
   "name": "python3"
  },
  "language_info": {
   "codemirror_mode": {
    "name": "ipython",
    "version": 3
   },
   "file_extension": ".py",
   "mimetype": "text/x-python",
   "name": "python",
   "nbconvert_exporter": "python",
   "pygments_lexer": "ipython3",
   "version": "3.7.3"
  }
 },
 "nbformat": 4,
 "nbformat_minor": 2
}
